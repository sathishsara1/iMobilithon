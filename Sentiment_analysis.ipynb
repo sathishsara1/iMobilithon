{
  "nbformat": 4,
  "nbformat_minor": 0,
  "metadata": {
    "colab": {
      "provenance": [],
      "include_colab_link": true
    },
    "kernelspec": {
      "name": "python3",
      "display_name": "Python 3"
    },
    "language_info": {
      "name": "python"
    }
  },
  "cells": [
    {
      "cell_type": "markdown",
      "metadata": {
        "id": "view-in-github",
        "colab_type": "text"
      },
      "source": [
        "<a href=\"https://colab.research.google.com/github/sathishsara1/iMobilithon/blob/main/Sentiment_analysis.ipynb\" target=\"_parent\"><img src=\"https://colab.research.google.com/assets/colab-badge.svg\" alt=\"Open In Colab\"/></a>"
      ]
    },
    {
      "cell_type": "code",
      "source": [
        "import pandas as pd\n",
        "\n",
        "# Load the Excel file\n",
        "file_path = '/content/Vehicle_Sales_data (1).xlsx'\n",
        "df = pd.read_excel(file_path)\n",
        "\n",
        "# Function to split reviews using '$' and create a new row for each review\n",
        "def split_reviews(row):\n",
        "    reviews = str(row['Customer Reviews']).split('$')\n",
        "    return pd.DataFrame({\n",
        "        'S.No': [row['S.No']] * len(reviews),\n",
        "        'Brand': [row['Brand']] * len(reviews),\n",
        "        'Model': [row['Model']] * len(reviews),\n",
        "        'Review': [review.strip() for review in reviews if review.strip()],\n",
        "        'Rating': [None] * len(reviews)  # Placeholder for ratings\n",
        "    })\n",
        "\n",
        "# Apply the function to split and expand reviews into separate rows\n",
        "df_expanded = pd.concat(df.apply(split_reviews, axis=1).tolist(), ignore_index=True)\n",
        "\n",
        "# Save the expanded DataFrame to Excel\n",
        "output_path = 'separated_reviews_with_ratings.xlsx'\n",
        "df_expanded.to_excel(output_path, index=False)\n",
        "\n",
        "print(f\"Separated reviews saved to {output_path}. You can manually add ratings in the Excel file.\")\n"
      ],
      "metadata": {
        "colab": {
          "base_uri": "https://localhost:8080/"
        },
        "id": "H1rkU_Qer2L3",
        "outputId": "115d1103-6d2b-4951-baf4-7a2b43c3d129"
      },
      "execution_count": null,
      "outputs": [
        {
          "output_type": "stream",
          "name": "stdout",
          "text": [
            "Separated reviews saved to separated_reviews_with_ratings.xlsx. You can manually add ratings in the Excel file.\n"
          ]
        }
      ]
    },
    {
      "cell_type": "code",
      "source": [
        "pip install textblob\n"
      ],
      "metadata": {
        "colab": {
          "base_uri": "https://localhost:8080/"
        },
        "id": "D-5x5Z8QsYMS",
        "outputId": "8b5a09ec-cf6a-4c5a-f284-9dc0e207fa23"
      },
      "execution_count": null,
      "outputs": [
        {
          "output_type": "stream",
          "name": "stdout",
          "text": [
            "Requirement already satisfied: textblob in /usr/local/lib/python3.10/dist-packages (0.17.1)\n",
            "Requirement already satisfied: nltk>=3.1 in /usr/local/lib/python3.10/dist-packages (from textblob) (3.9.1)\n",
            "Requirement already satisfied: click in /usr/local/lib/python3.10/dist-packages (from nltk>=3.1->textblob) (8.1.7)\n",
            "Requirement already satisfied: joblib in /usr/local/lib/python3.10/dist-packages (from nltk>=3.1->textblob) (1.4.2)\n",
            "Requirement already satisfied: regex>=2021.8.3 in /usr/local/lib/python3.10/dist-packages (from nltk>=3.1->textblob) (2024.9.11)\n",
            "Requirement already satisfied: tqdm in /usr/local/lib/python3.10/dist-packages (from nltk>=3.1->textblob) (4.66.6)\n"
          ]
        }
      ]
    },
    {
      "cell_type": "code",
      "source": [
        "import pandas as pd\n",
        "from textblob import TextBlob\n",
        "\n",
        "# Load the Excel file\n",
        "file_path = '/content/Vehicle_Sales_data (1).xlsx'\n",
        "df = pd.read_excel(file_path)\n",
        "\n",
        "# Function to assign a rating based on sentiment polarity\n",
        "def get_sentiment_rating(review):\n",
        "    sentiment = TextBlob(review).sentiment.polarity\n",
        "    if sentiment > 0.6:\n",
        "        return 5\n",
        "    elif sentiment > 0.3:\n",
        "        return 4\n",
        "    elif sentiment > 0:\n",
        "        return 3\n",
        "    elif sentiment > -0.3:\n",
        "        return 2\n",
        "    else:\n",
        "        return 1\n",
        "\n",
        "# Function to split reviews and generate ratings\n",
        "def split_reviews(row):\n",
        "    reviews = str(row['Customer Reviews']).split('$')\n",
        "    return pd.DataFrame({\n",
        "        'S.No': [row['S.No']] * len(reviews),\n",
        "        'Brand': [row['Brand']] * len(reviews),\n",
        "        'Model': [row['Model']] * len(reviews),\n",
        "        'Review': [review.strip() for review in reviews if review.strip()],\n",
        "        'Rating': [get_sentiment_rating(review.strip()) for review in reviews if review.strip()]\n",
        "    })\n",
        "\n",
        "# Apply the function to split and rate reviews\n",
        "df_expanded = pd.concat(df.apply(split_reviews, axis=1).tolist(), ignore_index=True)\n",
        "\n",
        "# Save the expanded DataFrame to Excel\n",
        "output_path = 'separated_reviews_with_sentiment_ratings.xlsx'\n",
        "df_expanded.to_excel(output_path, index=False)\n",
        "\n",
        "print(f\"Reviews with ratings saved to {output_path}.\")\n"
      ],
      "metadata": {
        "colab": {
          "base_uri": "https://localhost:8080/"
        },
        "id": "CRYlFF_ysevJ",
        "outputId": "92db59b7-ae7e-45dc-b5a4-9783abdcb68a"
      },
      "execution_count": null,
      "outputs": [
        {
          "output_type": "stream",
          "name": "stdout",
          "text": [
            "Reviews with ratings saved to separated_reviews_with_sentiment_ratings.xlsx.\n"
          ]
        }
      ]
    }
  ]
}